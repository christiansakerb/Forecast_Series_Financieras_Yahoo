{
 "cells": [
  {
   "cell_type": "markdown",
   "metadata": {},
   "source": [
    "### Importación Librerías"
   ]
  },
  {
   "cell_type": "code",
   "execution_count": null,
   "metadata": {},
   "outputs": [],
   "source": [
    "!pip install skforecast\n",
    "!pip install skforecast[full]\n",
    "!pip install pandas_datareader\n",
    "!pip install yfinance"
   ]
  },
  {
   "cell_type": "code",
   "execution_count": 1,
   "metadata": {},
   "outputs": [],
   "source": [
    "# Manipulación datos:\n",
    "import numpy as np\n",
    "import pandas as pd\n",
    "\n",
    "from numpy import array\n",
    "#from keras.models import Sequential\n",
    "#from keras.layers import Dense\n",
    "from numpy import asarray\n",
    "from pandas import DataFrame\n",
    "from pandas import concat\n",
    "\n",
    "# Gráficos\n",
    "import matplotlib.pyplot as plt\n",
    "import plotly.graph_objects as go\n",
    "from matplotlib import pyplot\n",
    "plt.style.use('fivethirtyeight')\n",
    "plt.rcParams['lines.linewidth'] = 1.5\n",
    "%matplotlib inline\n",
    "\n",
    "# Modelación y pronóstico\n",
    "#Random Forest:\n",
    "from sklearn.ensemble import RandomForestRegressor\n",
    "from sklearn.metrics import mean_squared_error\n",
    "from sklearn.metrics import mean_absolute_error\n",
    "from sklearn.preprocessing import StandardScaler\n",
    "from sklearn.pipeline import make_pipeline\n",
    "\n",
    "from sklearn.preprocessing import OneHotEncoder\n",
    "from sklearn.preprocessing import StandardScaler\n",
    "from sklearn.compose import ColumnTransformer\n",
    "from sklearn.pipeline import make_pipeline\n",
    "##Regressor:\n",
    "from skforecast.ForecasterAutoreg import ForecasterAutoreg\n",
    "from skforecast.ForecasterAutoregCustom import ForecasterAutoregCustom\n",
    "from skforecast.ForecasterAutoregDirect import ForecasterAutoregDirect\n",
    "from skforecast.model_selection import grid_search_forecaster\n",
    "from skforecast.model_selection import backtesting_forecaster\n",
    "from skforecast.utils import save_forecaster\n",
    "from skforecast.utils import load_forecaster\n",
    "\n",
    "from joblib import dump, load\n",
    "\n",
    "\n",
    "from datetime import datetime\n",
    "from math import sqrt\n",
    "# Configuración de warnings:\n",
    "import warnings\n",
    "warnings.filterwarnings('once')"
   ]
  },
  {
   "cell_type": "code",
   "execution_count": 4,
   "metadata": {},
   "outputs": [
    {
     "name": "stderr",
     "output_type": "stream",
     "text": [
      "c:\\Users\\csake\\anaconda3\\lib\\site-packages\\pandas_datareader\\compat\\__init__.py:11: DeprecationWarning: distutils Version classes are deprecated. Use packaging.version instead.\n",
      "  PANDAS_VERSION = LooseVersion(pd.__version__)\n"
     ]
    }
   ],
   "source": [
    "#Estas son paqueterías complementarias para la descarga de datos financieros\n",
    "import pandas\n",
    "from pandas_datareader import data as pdr\n",
    "import yfinance as yfin\n",
    "yfin.pdr_override()\n",
    "#Diable the warnings\n",
    "import warnings\n",
    "warnings.filterwarnings('ignore')"
   ]
  },
  {
   "cell_type": "code",
   "execution_count": 12,
   "metadata": {},
   "outputs": [
    {
     "name": "stderr",
     "output_type": "stream",
     "text": [
      "[*********************100%%**********************]  1 of 1 completed\n"
     ]
    }
   ],
   "source": [
    "#Establecemos las fechas de consulta:\n",
    "start = '2016-05-01'\n",
    "end = '2018-01-28'\n",
    "\n",
    "ticker = 'META'\n",
    "data = pdr.get_data_yahoo(ticker, start, end)['Close']"
   ]
  },
  {
   "cell_type": "code",
   "execution_count": 13,
   "metadata": {},
   "outputs": [
    {
     "name": "stdout",
     "output_type": "stream",
     "text": [
      "<class 'pandas.core.frame.DataFrame'>\n",
      "DatetimeIndex: 439 entries, 2016-05-02 to 2018-01-26\n",
      "Data columns (total 1 columns):\n",
      " #   Column  Non-Null Count  Dtype  \n",
      "---  ------  --------------  -----  \n",
      " 0   y       439 non-null    float64\n",
      "dtypes: float64(1)\n",
      "memory usage: 6.9 KB\n"
     ]
    },
    {
     "data": {
      "text/html": [
       "<div>\n",
       "<style scoped>\n",
       "    .dataframe tbody tr th:only-of-type {\n",
       "        vertical-align: middle;\n",
       "    }\n",
       "\n",
       "    .dataframe tbody tr th {\n",
       "        vertical-align: top;\n",
       "    }\n",
       "\n",
       "    .dataframe thead th {\n",
       "        text-align: right;\n",
       "    }\n",
       "</style>\n",
       "<table border=\"1\" class=\"dataframe\">\n",
       "  <thead>\n",
       "    <tr style=\"text-align: right;\">\n",
       "      <th></th>\n",
       "      <th>y</th>\n",
       "    </tr>\n",
       "    <tr>\n",
       "      <th>Date</th>\n",
       "      <th></th>\n",
       "    </tr>\n",
       "  </thead>\n",
       "  <tbody>\n",
       "    <tr>\n",
       "      <th>2016-05-02</th>\n",
       "      <td>118.570000</td>\n",
       "    </tr>\n",
       "    <tr>\n",
       "      <th>2016-05-03</th>\n",
       "      <td>117.430000</td>\n",
       "    </tr>\n",
       "    <tr>\n",
       "      <th>2016-05-04</th>\n",
       "      <td>118.059998</td>\n",
       "    </tr>\n",
       "  </tbody>\n",
       "</table>\n",
       "</div>"
      ],
      "text/plain": [
       "                     y\n",
       "Date                  \n",
       "2016-05-02  118.570000\n",
       "2016-05-03  117.430000\n",
       "2016-05-04  118.059998"
      ]
     },
     "execution_count": 13,
     "metadata": {},
     "output_type": "execute_result"
    }
   ],
   "source": [
    "dt= pandas.DataFrame(data)\n",
    "df= dt.rename(columns={'Close': 'y'})\n",
    "df.info()\n",
    "df.head(3)"
   ]
  },
  {
   "cell_type": "code",
   "execution_count": 16,
   "metadata": {},
   "outputs": [
    {
     "data": {
      "text/plain": [
       "(439, 1)"
      ]
     },
     "execution_count": 16,
     "metadata": {},
     "output_type": "execute_result"
    }
   ],
   "source": [
    "df.shape"
   ]
  },
  {
   "cell_type": "markdown",
   "metadata": {},
   "source": [
    "### Preprocesamiento de datos"
   ]
  },
  {
   "cell_type": "code",
   "execution_count": 17,
   "metadata": {},
   "outputs": [
    {
     "data": {
      "text/plain": [
       "[Timestamp('2016-05-02 00:00:00'),\n",
       " Timestamp('2016-05-03 00:00:00'),\n",
       " Timestamp('2016-05-04 00:00:00'),\n",
       " Timestamp('2016-05-05 00:00:00'),\n",
       " Timestamp('2016-05-06 00:00:00'),\n",
       " Timestamp('2016-05-09 00:00:00'),\n",
       " Timestamp('2016-05-10 00:00:00'),\n",
       " Timestamp('2016-05-11 00:00:00'),\n",
       " Timestamp('2016-05-12 00:00:00'),\n",
       " Timestamp('2016-05-13 00:00:00'),\n",
       " Timestamp('2016-05-16 00:00:00'),\n",
       " Timestamp('2016-05-17 00:00:00'),\n",
       " Timestamp('2016-05-18 00:00:00'),\n",
       " Timestamp('2016-05-19 00:00:00'),\n",
       " Timestamp('2016-05-20 00:00:00'),\n",
       " Timestamp('2016-05-23 00:00:00'),\n",
       " Timestamp('2016-05-24 00:00:00'),\n",
       " Timestamp('2016-05-25 00:00:00'),\n",
       " Timestamp('2016-05-26 00:00:00'),\n",
       " Timestamp('2016-05-27 00:00:00'),\n",
       " Timestamp('2016-05-31 00:00:00'),\n",
       " Timestamp('2016-06-01 00:00:00'),\n",
       " Timestamp('2016-06-02 00:00:00'),\n",
       " Timestamp('2016-06-03 00:00:00'),\n",
       " Timestamp('2016-06-06 00:00:00'),\n",
       " Timestamp('2016-06-07 00:00:00'),\n",
       " Timestamp('2016-06-08 00:00:00'),\n",
       " Timestamp('2016-06-09 00:00:00'),\n",
       " Timestamp('2016-06-10 00:00:00'),\n",
       " Timestamp('2016-06-13 00:00:00'),\n",
       " Timestamp('2016-06-14 00:00:00'),\n",
       " Timestamp('2016-06-15 00:00:00'),\n",
       " Timestamp('2016-06-16 00:00:00'),\n",
       " Timestamp('2016-06-17 00:00:00'),\n",
       " Timestamp('2016-06-20 00:00:00'),\n",
       " Timestamp('2016-06-21 00:00:00'),\n",
       " Timestamp('2016-06-22 00:00:00'),\n",
       " Timestamp('2016-06-23 00:00:00'),\n",
       " Timestamp('2016-06-24 00:00:00'),\n",
       " Timestamp('2016-06-27 00:00:00'),\n",
       " Timestamp('2016-06-28 00:00:00'),\n",
       " Timestamp('2016-06-29 00:00:00'),\n",
       " Timestamp('2016-06-30 00:00:00'),\n",
       " Timestamp('2016-07-01 00:00:00'),\n",
       " Timestamp('2016-07-05 00:00:00'),\n",
       " Timestamp('2016-07-06 00:00:00'),\n",
       " Timestamp('2016-07-07 00:00:00'),\n",
       " Timestamp('2016-07-08 00:00:00'),\n",
       " Timestamp('2016-07-11 00:00:00'),\n",
       " Timestamp('2016-07-12 00:00:00'),\n",
       " Timestamp('2016-07-13 00:00:00'),\n",
       " Timestamp('2016-07-14 00:00:00'),\n",
       " Timestamp('2016-07-15 00:00:00'),\n",
       " Timestamp('2016-07-18 00:00:00'),\n",
       " Timestamp('2016-07-19 00:00:00'),\n",
       " Timestamp('2016-07-20 00:00:00'),\n",
       " Timestamp('2016-07-21 00:00:00'),\n",
       " Timestamp('2016-07-22 00:00:00'),\n",
       " Timestamp('2016-07-25 00:00:00'),\n",
       " Timestamp('2016-07-26 00:00:00'),\n",
       " Timestamp('2016-07-27 00:00:00'),\n",
       " Timestamp('2016-07-28 00:00:00'),\n",
       " Timestamp('2016-07-29 00:00:00'),\n",
       " Timestamp('2016-08-01 00:00:00'),\n",
       " Timestamp('2016-08-02 00:00:00'),\n",
       " Timestamp('2016-08-03 00:00:00'),\n",
       " Timestamp('2016-08-04 00:00:00'),\n",
       " Timestamp('2016-08-05 00:00:00'),\n",
       " Timestamp('2016-08-08 00:00:00'),\n",
       " Timestamp('2016-08-09 00:00:00'),\n",
       " Timestamp('2016-08-10 00:00:00'),\n",
       " Timestamp('2016-08-11 00:00:00'),\n",
       " Timestamp('2016-08-12 00:00:00'),\n",
       " Timestamp('2016-08-15 00:00:00'),\n",
       " Timestamp('2016-08-16 00:00:00'),\n",
       " Timestamp('2016-08-17 00:00:00'),\n",
       " Timestamp('2016-08-18 00:00:00'),\n",
       " Timestamp('2016-08-19 00:00:00'),\n",
       " Timestamp('2016-08-22 00:00:00'),\n",
       " Timestamp('2016-08-23 00:00:00'),\n",
       " Timestamp('2016-08-24 00:00:00'),\n",
       " Timestamp('2016-08-25 00:00:00'),\n",
       " Timestamp('2016-08-26 00:00:00'),\n",
       " Timestamp('2016-08-29 00:00:00'),\n",
       " Timestamp('2016-08-30 00:00:00'),\n",
       " Timestamp('2016-08-31 00:00:00'),\n",
       " Timestamp('2016-09-01 00:00:00'),\n",
       " Timestamp('2016-09-02 00:00:00'),\n",
       " Timestamp('2016-09-06 00:00:00'),\n",
       " Timestamp('2016-09-07 00:00:00'),\n",
       " Timestamp('2016-09-08 00:00:00'),\n",
       " Timestamp('2016-09-09 00:00:00'),\n",
       " Timestamp('2016-09-12 00:00:00'),\n",
       " Timestamp('2016-09-13 00:00:00'),\n",
       " Timestamp('2016-09-14 00:00:00'),\n",
       " Timestamp('2016-09-15 00:00:00'),\n",
       " Timestamp('2016-09-16 00:00:00'),\n",
       " Timestamp('2016-09-19 00:00:00'),\n",
       " Timestamp('2016-09-20 00:00:00'),\n",
       " Timestamp('2016-09-21 00:00:00'),\n",
       " Timestamp('2016-09-22 00:00:00'),\n",
       " Timestamp('2016-09-23 00:00:00'),\n",
       " Timestamp('2016-09-26 00:00:00'),\n",
       " Timestamp('2016-09-27 00:00:00'),\n",
       " Timestamp('2016-09-28 00:00:00'),\n",
       " Timestamp('2016-09-29 00:00:00'),\n",
       " Timestamp('2016-09-30 00:00:00'),\n",
       " Timestamp('2016-10-03 00:00:00'),\n",
       " Timestamp('2016-10-04 00:00:00'),\n",
       " Timestamp('2016-10-05 00:00:00'),\n",
       " Timestamp('2016-10-06 00:00:00'),\n",
       " Timestamp('2016-10-07 00:00:00'),\n",
       " Timestamp('2016-10-10 00:00:00'),\n",
       " Timestamp('2016-10-11 00:00:00'),\n",
       " Timestamp('2016-10-12 00:00:00'),\n",
       " Timestamp('2016-10-13 00:00:00'),\n",
       " Timestamp('2016-10-14 00:00:00'),\n",
       " Timestamp('2016-10-17 00:00:00'),\n",
       " Timestamp('2016-10-18 00:00:00'),\n",
       " Timestamp('2016-10-19 00:00:00'),\n",
       " Timestamp('2016-10-20 00:00:00'),\n",
       " Timestamp('2016-10-21 00:00:00'),\n",
       " Timestamp('2016-10-24 00:00:00'),\n",
       " Timestamp('2016-10-25 00:00:00'),\n",
       " Timestamp('2016-10-26 00:00:00'),\n",
       " Timestamp('2016-10-27 00:00:00'),\n",
       " Timestamp('2016-10-28 00:00:00'),\n",
       " Timestamp('2016-10-31 00:00:00'),\n",
       " Timestamp('2016-11-01 00:00:00'),\n",
       " Timestamp('2016-11-02 00:00:00'),\n",
       " Timestamp('2016-11-03 00:00:00'),\n",
       " Timestamp('2016-11-04 00:00:00'),\n",
       " Timestamp('2016-11-07 00:00:00'),\n",
       " Timestamp('2016-11-08 00:00:00'),\n",
       " Timestamp('2016-11-09 00:00:00'),\n",
       " Timestamp('2016-11-10 00:00:00'),\n",
       " Timestamp('2016-11-11 00:00:00'),\n",
       " Timestamp('2016-11-14 00:00:00'),\n",
       " Timestamp('2016-11-15 00:00:00'),\n",
       " Timestamp('2016-11-16 00:00:00'),\n",
       " Timestamp('2016-11-17 00:00:00'),\n",
       " Timestamp('2016-11-18 00:00:00'),\n",
       " Timestamp('2016-11-21 00:00:00'),\n",
       " Timestamp('2016-11-22 00:00:00'),\n",
       " Timestamp('2016-11-23 00:00:00'),\n",
       " Timestamp('2016-11-25 00:00:00'),\n",
       " Timestamp('2016-11-28 00:00:00'),\n",
       " Timestamp('2016-11-29 00:00:00'),\n",
       " Timestamp('2016-11-30 00:00:00'),\n",
       " Timestamp('2016-12-01 00:00:00'),\n",
       " Timestamp('2016-12-02 00:00:00'),\n",
       " Timestamp('2016-12-05 00:00:00'),\n",
       " Timestamp('2016-12-06 00:00:00'),\n",
       " Timestamp('2016-12-07 00:00:00'),\n",
       " Timestamp('2016-12-08 00:00:00'),\n",
       " Timestamp('2016-12-09 00:00:00'),\n",
       " Timestamp('2016-12-12 00:00:00'),\n",
       " Timestamp('2016-12-13 00:00:00'),\n",
       " Timestamp('2016-12-14 00:00:00'),\n",
       " Timestamp('2016-12-15 00:00:00'),\n",
       " Timestamp('2016-12-16 00:00:00'),\n",
       " Timestamp('2016-12-19 00:00:00'),\n",
       " Timestamp('2016-12-20 00:00:00'),\n",
       " Timestamp('2016-12-21 00:00:00'),\n",
       " Timestamp('2016-12-22 00:00:00'),\n",
       " Timestamp('2016-12-23 00:00:00'),\n",
       " Timestamp('2016-12-27 00:00:00'),\n",
       " Timestamp('2016-12-28 00:00:00'),\n",
       " Timestamp('2016-12-29 00:00:00'),\n",
       " Timestamp('2016-12-30 00:00:00'),\n",
       " Timestamp('2017-01-03 00:00:00'),\n",
       " Timestamp('2017-01-04 00:00:00'),\n",
       " Timestamp('2017-01-05 00:00:00'),\n",
       " Timestamp('2017-01-06 00:00:00'),\n",
       " Timestamp('2017-01-09 00:00:00'),\n",
       " Timestamp('2017-01-10 00:00:00'),\n",
       " Timestamp('2017-01-11 00:00:00'),\n",
       " Timestamp('2017-01-12 00:00:00'),\n",
       " Timestamp('2017-01-13 00:00:00'),\n",
       " Timestamp('2017-01-17 00:00:00'),\n",
       " Timestamp('2017-01-18 00:00:00'),\n",
       " Timestamp('2017-01-19 00:00:00'),\n",
       " Timestamp('2017-01-20 00:00:00'),\n",
       " Timestamp('2017-01-23 00:00:00'),\n",
       " Timestamp('2017-01-24 00:00:00'),\n",
       " Timestamp('2017-01-25 00:00:00'),\n",
       " Timestamp('2017-01-26 00:00:00'),\n",
       " Timestamp('2017-01-27 00:00:00'),\n",
       " Timestamp('2017-01-30 00:00:00'),\n",
       " Timestamp('2017-01-31 00:00:00'),\n",
       " Timestamp('2017-02-01 00:00:00'),\n",
       " Timestamp('2017-02-02 00:00:00'),\n",
       " Timestamp('2017-02-03 00:00:00'),\n",
       " Timestamp('2017-02-06 00:00:00'),\n",
       " Timestamp('2017-02-07 00:00:00'),\n",
       " Timestamp('2017-02-08 00:00:00'),\n",
       " Timestamp('2017-02-09 00:00:00'),\n",
       " Timestamp('2017-02-10 00:00:00'),\n",
       " Timestamp('2017-02-13 00:00:00'),\n",
       " Timestamp('2017-02-14 00:00:00'),\n",
       " Timestamp('2017-02-15 00:00:00'),\n",
       " Timestamp('2017-02-16 00:00:00'),\n",
       " Timestamp('2017-02-17 00:00:00'),\n",
       " Timestamp('2017-02-21 00:00:00'),\n",
       " Timestamp('2017-02-22 00:00:00'),\n",
       " Timestamp('2017-02-23 00:00:00'),\n",
       " Timestamp('2017-02-24 00:00:00'),\n",
       " Timestamp('2017-02-27 00:00:00'),\n",
       " Timestamp('2017-02-28 00:00:00'),\n",
       " Timestamp('2017-03-01 00:00:00'),\n",
       " Timestamp('2017-03-02 00:00:00'),\n",
       " Timestamp('2017-03-03 00:00:00'),\n",
       " Timestamp('2017-03-06 00:00:00'),\n",
       " Timestamp('2017-03-07 00:00:00'),\n",
       " Timestamp('2017-03-08 00:00:00'),\n",
       " Timestamp('2017-03-09 00:00:00'),\n",
       " Timestamp('2017-03-10 00:00:00'),\n",
       " Timestamp('2017-03-13 00:00:00'),\n",
       " Timestamp('2017-03-14 00:00:00'),\n",
       " Timestamp('2017-03-15 00:00:00'),\n",
       " Timestamp('2017-03-16 00:00:00'),\n",
       " Timestamp('2017-03-17 00:00:00'),\n",
       " Timestamp('2017-03-20 00:00:00'),\n",
       " Timestamp('2017-03-21 00:00:00'),\n",
       " Timestamp('2017-03-22 00:00:00'),\n",
       " Timestamp('2017-03-23 00:00:00'),\n",
       " Timestamp('2017-03-24 00:00:00'),\n",
       " Timestamp('2017-03-27 00:00:00'),\n",
       " Timestamp('2017-03-28 00:00:00'),\n",
       " Timestamp('2017-03-29 00:00:00'),\n",
       " Timestamp('2017-03-30 00:00:00'),\n",
       " Timestamp('2017-03-31 00:00:00'),\n",
       " Timestamp('2017-04-03 00:00:00'),\n",
       " Timestamp('2017-04-04 00:00:00'),\n",
       " Timestamp('2017-04-05 00:00:00'),\n",
       " Timestamp('2017-04-06 00:00:00'),\n",
       " Timestamp('2017-04-07 00:00:00'),\n",
       " Timestamp('2017-04-10 00:00:00'),\n",
       " Timestamp('2017-04-11 00:00:00'),\n",
       " Timestamp('2017-04-12 00:00:00'),\n",
       " Timestamp('2017-04-13 00:00:00'),\n",
       " Timestamp('2017-04-17 00:00:00'),\n",
       " Timestamp('2017-04-18 00:00:00'),\n",
       " Timestamp('2017-04-19 00:00:00'),\n",
       " Timestamp('2017-04-20 00:00:00'),\n",
       " Timestamp('2017-04-21 00:00:00'),\n",
       " Timestamp('2017-04-24 00:00:00'),\n",
       " Timestamp('2017-04-25 00:00:00'),\n",
       " Timestamp('2017-04-26 00:00:00'),\n",
       " Timestamp('2017-04-27 00:00:00'),\n",
       " Timestamp('2017-04-28 00:00:00'),\n",
       " Timestamp('2017-05-01 00:00:00'),\n",
       " Timestamp('2017-05-02 00:00:00'),\n",
       " Timestamp('2017-05-03 00:00:00'),\n",
       " Timestamp('2017-05-04 00:00:00'),\n",
       " Timestamp('2017-05-05 00:00:00'),\n",
       " Timestamp('2017-05-08 00:00:00'),\n",
       " Timestamp('2017-05-09 00:00:00'),\n",
       " Timestamp('2017-05-10 00:00:00'),\n",
       " Timestamp('2017-05-11 00:00:00'),\n",
       " Timestamp('2017-05-12 00:00:00'),\n",
       " Timestamp('2017-05-15 00:00:00'),\n",
       " Timestamp('2017-05-16 00:00:00'),\n",
       " Timestamp('2017-05-17 00:00:00'),\n",
       " Timestamp('2017-05-18 00:00:00'),\n",
       " Timestamp('2017-05-19 00:00:00'),\n",
       " Timestamp('2017-05-22 00:00:00'),\n",
       " Timestamp('2017-05-23 00:00:00'),\n",
       " Timestamp('2017-05-24 00:00:00'),\n",
       " Timestamp('2017-05-25 00:00:00'),\n",
       " Timestamp('2017-05-26 00:00:00'),\n",
       " Timestamp('2017-05-30 00:00:00'),\n",
       " Timestamp('2017-05-31 00:00:00'),\n",
       " Timestamp('2017-06-01 00:00:00'),\n",
       " Timestamp('2017-06-02 00:00:00'),\n",
       " Timestamp('2017-06-05 00:00:00'),\n",
       " Timestamp('2017-06-06 00:00:00'),\n",
       " Timestamp('2017-06-07 00:00:00'),\n",
       " Timestamp('2017-06-08 00:00:00'),\n",
       " Timestamp('2017-06-09 00:00:00'),\n",
       " Timestamp('2017-06-12 00:00:00'),\n",
       " Timestamp('2017-06-13 00:00:00'),\n",
       " Timestamp('2017-06-14 00:00:00'),\n",
       " Timestamp('2017-06-15 00:00:00'),\n",
       " Timestamp('2017-06-16 00:00:00'),\n",
       " Timestamp('2017-06-19 00:00:00'),\n",
       " Timestamp('2017-06-20 00:00:00'),\n",
       " Timestamp('2017-06-21 00:00:00'),\n",
       " Timestamp('2017-06-22 00:00:00'),\n",
       " Timestamp('2017-06-23 00:00:00'),\n",
       " Timestamp('2017-06-26 00:00:00'),\n",
       " Timestamp('2017-06-27 00:00:00'),\n",
       " Timestamp('2017-06-28 00:00:00'),\n",
       " Timestamp('2017-06-29 00:00:00'),\n",
       " Timestamp('2017-06-30 00:00:00'),\n",
       " Timestamp('2017-07-03 00:00:00'),\n",
       " Timestamp('2017-07-05 00:00:00'),\n",
       " Timestamp('2017-07-06 00:00:00'),\n",
       " Timestamp('2017-07-07 00:00:00'),\n",
       " Timestamp('2017-07-10 00:00:00'),\n",
       " Timestamp('2017-07-11 00:00:00'),\n",
       " Timestamp('2017-07-12 00:00:00'),\n",
       " Timestamp('2017-07-13 00:00:00'),\n",
       " Timestamp('2017-07-14 00:00:00'),\n",
       " Timestamp('2017-07-17 00:00:00'),\n",
       " Timestamp('2017-07-18 00:00:00'),\n",
       " Timestamp('2017-07-19 00:00:00'),\n",
       " Timestamp('2017-07-20 00:00:00'),\n",
       " Timestamp('2017-07-21 00:00:00'),\n",
       " Timestamp('2017-07-24 00:00:00'),\n",
       " Timestamp('2017-07-25 00:00:00'),\n",
       " Timestamp('2017-07-26 00:00:00'),\n",
       " Timestamp('2017-07-27 00:00:00'),\n",
       " Timestamp('2017-07-28 00:00:00'),\n",
       " Timestamp('2017-07-31 00:00:00'),\n",
       " Timestamp('2017-08-01 00:00:00'),\n",
       " Timestamp('2017-08-02 00:00:00'),\n",
       " Timestamp('2017-08-03 00:00:00'),\n",
       " Timestamp('2017-08-04 00:00:00'),\n",
       " Timestamp('2017-08-07 00:00:00'),\n",
       " Timestamp('2017-08-08 00:00:00'),\n",
       " Timestamp('2017-08-09 00:00:00'),\n",
       " Timestamp('2017-08-10 00:00:00'),\n",
       " Timestamp('2017-08-11 00:00:00'),\n",
       " Timestamp('2017-08-14 00:00:00'),\n",
       " Timestamp('2017-08-15 00:00:00'),\n",
       " Timestamp('2017-08-16 00:00:00'),\n",
       " Timestamp('2017-08-17 00:00:00'),\n",
       " Timestamp('2017-08-18 00:00:00'),\n",
       " Timestamp('2017-08-21 00:00:00'),\n",
       " Timestamp('2017-08-22 00:00:00'),\n",
       " Timestamp('2017-08-23 00:00:00'),\n",
       " Timestamp('2017-08-24 00:00:00'),\n",
       " Timestamp('2017-08-25 00:00:00'),\n",
       " Timestamp('2017-08-28 00:00:00'),\n",
       " Timestamp('2017-08-29 00:00:00'),\n",
       " Timestamp('2017-08-30 00:00:00'),\n",
       " Timestamp('2017-08-31 00:00:00'),\n",
       " Timestamp('2017-09-01 00:00:00'),\n",
       " Timestamp('2017-09-05 00:00:00'),\n",
       " Timestamp('2017-09-06 00:00:00'),\n",
       " Timestamp('2017-09-07 00:00:00'),\n",
       " Timestamp('2017-09-08 00:00:00'),\n",
       " Timestamp('2017-09-11 00:00:00'),\n",
       " Timestamp('2017-09-12 00:00:00'),\n",
       " Timestamp('2017-09-13 00:00:00'),\n",
       " Timestamp('2017-09-14 00:00:00'),\n",
       " Timestamp('2017-09-15 00:00:00'),\n",
       " Timestamp('2017-09-18 00:00:00'),\n",
       " Timestamp('2017-09-19 00:00:00'),\n",
       " Timestamp('2017-09-20 00:00:00'),\n",
       " Timestamp('2017-09-21 00:00:00'),\n",
       " Timestamp('2017-09-22 00:00:00'),\n",
       " Timestamp('2017-09-25 00:00:00'),\n",
       " Timestamp('2017-09-26 00:00:00'),\n",
       " Timestamp('2017-09-27 00:00:00'),\n",
       " Timestamp('2017-09-28 00:00:00'),\n",
       " Timestamp('2017-09-29 00:00:00'),\n",
       " Timestamp('2017-10-02 00:00:00'),\n",
       " Timestamp('2017-10-03 00:00:00'),\n",
       " Timestamp('2017-10-04 00:00:00'),\n",
       " Timestamp('2017-10-05 00:00:00'),\n",
       " Timestamp('2017-10-06 00:00:00'),\n",
       " Timestamp('2017-10-09 00:00:00'),\n",
       " Timestamp('2017-10-10 00:00:00'),\n",
       " Timestamp('2017-10-11 00:00:00'),\n",
       " Timestamp('2017-10-12 00:00:00'),\n",
       " Timestamp('2017-10-13 00:00:00'),\n",
       " Timestamp('2017-10-16 00:00:00'),\n",
       " Timestamp('2017-10-17 00:00:00'),\n",
       " Timestamp('2017-10-18 00:00:00'),\n",
       " Timestamp('2017-10-19 00:00:00'),\n",
       " Timestamp('2017-10-20 00:00:00'),\n",
       " Timestamp('2017-10-23 00:00:00'),\n",
       " Timestamp('2017-10-24 00:00:00'),\n",
       " Timestamp('2017-10-25 00:00:00'),\n",
       " Timestamp('2017-10-26 00:00:00'),\n",
       " Timestamp('2017-10-27 00:00:00'),\n",
       " Timestamp('2017-10-30 00:00:00'),\n",
       " Timestamp('2017-10-31 00:00:00'),\n",
       " Timestamp('2017-11-01 00:00:00'),\n",
       " Timestamp('2017-11-02 00:00:00'),\n",
       " Timestamp('2017-11-03 00:00:00'),\n",
       " Timestamp('2017-11-06 00:00:00'),\n",
       " Timestamp('2017-11-07 00:00:00'),\n",
       " Timestamp('2017-11-08 00:00:00'),\n",
       " Timestamp('2017-11-09 00:00:00'),\n",
       " Timestamp('2017-11-10 00:00:00'),\n",
       " Timestamp('2017-11-13 00:00:00'),\n",
       " Timestamp('2017-11-14 00:00:00'),\n",
       " Timestamp('2017-11-15 00:00:00'),\n",
       " Timestamp('2017-11-16 00:00:00'),\n",
       " Timestamp('2017-11-17 00:00:00'),\n",
       " Timestamp('2017-11-20 00:00:00'),\n",
       " Timestamp('2017-11-21 00:00:00'),\n",
       " Timestamp('2017-11-22 00:00:00'),\n",
       " Timestamp('2017-11-24 00:00:00'),\n",
       " Timestamp('2017-11-27 00:00:00'),\n",
       " Timestamp('2017-11-28 00:00:00'),\n",
       " Timestamp('2017-11-29 00:00:00'),\n",
       " Timestamp('2017-11-30 00:00:00'),\n",
       " Timestamp('2017-12-01 00:00:00'),\n",
       " Timestamp('2017-12-04 00:00:00'),\n",
       " Timestamp('2017-12-05 00:00:00'),\n",
       " Timestamp('2017-12-06 00:00:00'),\n",
       " Timestamp('2017-12-07 00:00:00'),\n",
       " Timestamp('2017-12-08 00:00:00'),\n",
       " Timestamp('2017-12-11 00:00:00'),\n",
       " Timestamp('2017-12-12 00:00:00'),\n",
       " Timestamp('2017-12-13 00:00:00'),\n",
       " Timestamp('2017-12-14 00:00:00'),\n",
       " Timestamp('2017-12-15 00:00:00'),\n",
       " Timestamp('2017-12-18 00:00:00'),\n",
       " Timestamp('2017-12-19 00:00:00'),\n",
       " Timestamp('2017-12-20 00:00:00'),\n",
       " Timestamp('2017-12-21 00:00:00'),\n",
       " Timestamp('2017-12-22 00:00:00'),\n",
       " Timestamp('2017-12-26 00:00:00'),\n",
       " Timestamp('2017-12-27 00:00:00'),\n",
       " Timestamp('2017-12-28 00:00:00'),\n",
       " Timestamp('2017-12-29 00:00:00'),\n",
       " Timestamp('2018-01-02 00:00:00'),\n",
       " Timestamp('2018-01-03 00:00:00'),\n",
       " Timestamp('2018-01-04 00:00:00'),\n",
       " Timestamp('2018-01-05 00:00:00'),\n",
       " Timestamp('2018-01-08 00:00:00'),\n",
       " Timestamp('2018-01-09 00:00:00'),\n",
       " Timestamp('2018-01-10 00:00:00'),\n",
       " Timestamp('2018-01-11 00:00:00'),\n",
       " Timestamp('2018-01-12 00:00:00'),\n",
       " Timestamp('2018-01-16 00:00:00'),\n",
       " Timestamp('2018-01-17 00:00:00'),\n",
       " Timestamp('2018-01-18 00:00:00'),\n",
       " Timestamp('2018-01-19 00:00:00'),\n",
       " Timestamp('2018-01-22 00:00:00'),\n",
       " Timestamp('2018-01-23 00:00:00'),\n",
       " Timestamp('2018-01-24 00:00:00'),\n",
       " Timestamp('2018-01-25 00:00:00'),\n",
       " Timestamp('2018-01-26 00:00:00')]"
      ]
     },
     "execution_count": 17,
     "metadata": {},
     "output_type": "execute_result"
    }
   ],
   "source": [
    "dataindex= pd.to_datetime(df.index)\n",
    "list(dataindex)"
   ]
  },
  {
   "cell_type": "code",
   "execution_count": 18,
   "metadata": {},
   "outputs": [
    {
     "name": "stdout",
     "output_type": "stream",
     "text": [
      "<class 'pandas.core.frame.DataFrame'>\n",
      "DatetimeIndex: 455 entries, 2016-05-02 to 2018-01-26\n",
      "Freq: B\n",
      "Data columns (total 1 columns):\n",
      " #   Column  Non-Null Count  Dtype  \n",
      "---  ------  --------------  -----  \n",
      " 0   y       439 non-null    float64\n",
      "dtypes: float64(1)\n",
      "memory usage: 7.1 KB\n"
     ]
    }
   ],
   "source": [
    "# Damos formato de fecha con periodiciadad diaria a la serie.\n",
    "df['Date'] = pd.to_datetime(df.index, format='%Y-%m-%d')  \n",
    "#df['Date'] = pd.to_datetime(df['Date'], format='%Y-%m-%d')  \n",
    "df = df.set_index('Date')\n",
    "df = df.asfreq('B')\n",
    "df = df.sort_index()\n",
    "df.info()"
   ]
  },
  {
   "cell_type": "code",
   "execution_count": 19,
   "metadata": {},
   "outputs": [
    {
     "name": "stdout",
     "output_type": "stream",
     "text": [
      "Number of rows with missing values: 0.0\n"
     ]
    }
   ],
   "source": [
    "## Imputamos algún valor faltante con el valor anterior.\n",
    "df.fillna(method='bfill', inplace=True)\n",
    "print(f'Number of rows with missing values: {df.isnull().any(axis=1).mean()}')"
   ]
  },
  {
   "cell_type": "markdown",
   "metadata": {},
   "source": [
    "<a id=\"6\"></a> <br>\n",
    "### 4. Partición de datos en entrenamiento y prueba\n",
    "\n",
    "En esta seción, partimos el conjunto de datos de pueba y de entrenamiento. "
   ]
  },
  {
   "cell_type": "code",
   "execution_count": 22,
   "metadata": {},
   "outputs": [
    {
     "data": {
      "text/plain": [
       "22.75"
      ]
     },
     "execution_count": 22,
     "metadata": {},
     "output_type": "execute_result"
    }
   ],
   "source": [
    "df.shape[0]*0.05"
   ]
  },
  {
   "cell_type": "code",
   "execution_count": 23,
   "metadata": {},
   "outputs": [
    {
     "name": "stdout",
     "output_type": "stream",
     "text": [
      "Train dates : 2016-05-02 00:00:00 --- 2017-12-26 00:00:00  (n=432)\n",
      "Test dates  : 2017-12-27 00:00:00 --- 2018-01-26 00:00:00  (n=23)\n"
     ]
    }
   ],
   "source": [
    "# Split data into train-test\n",
    "# ==============================================================================\n",
    "steps = 23\n",
    "data_train = df[:-steps]\n",
    "data_test  = df[-steps:]\n",
    "print(f\"Train dates : {data_train.index.min()} --- {data_train.index.max()}  (n={len(data_train)})\")\n",
    "print(f\"Test dates  : {data_test.index.min()} --- {data_test.index.max()}  (n={len(data_test)})\")\n",
    "\n",
    "#Así también para las fechas:\n",
    "date_train = dataindex[:-steps]\n",
    "date_test = dataindex[-steps:]"
   ]
  },
  {
   "cell_type": "markdown",
   "metadata": {},
   "source": [
    "<a id=\"4\"></a> <br>\n",
    "### 5. Visualización de datos financieros\n",
    "\n",
    "Para mirar la serie, debemos importar la librería de matplotlib."
   ]
  },
  {
   "cell_type": "code",
   "execution_count": 25,
   "metadata": {},
   "outputs": [
    {
     "data": {
      "text/plain": [
       "[<matplotlib.lines.Line2D at 0x2902560d150>]"
      ]
     },
     "execution_count": 25,
     "metadata": {},
     "output_type": "execute_result"
    },
    {
     "data": {
      "image/png": "[encoded data removed]",
      "text/plain": [
       "<Figure size 1500x500 with 1 Axes>"
      ]
     },
     "metadata": {},
     "output_type": "display_data"
    }
   ],
   "source": [
    "#Una vez llamada la librería, graficamos la serie dt.\n",
    "import matplotlib.pyplot as plt\n",
    "plt.figure(figsize=(15,5))\n",
    "plt.plot(df)"
   ]
  },
  {
   "cell_type": "code",
   "execution_count": 30,
   "metadata": {},
   "outputs": [
    {
     "data": {
      "image/png": "[encoded data removed]",
      "text/plain": [
       "<Figure size 1500x500 with 1 Axes>"
      ]
     },
     "metadata": {},
     "output_type": "display_data"
    }
   ],
   "source": [
    "\n",
    "fig, ax = plt.subplots(figsize=(15, 5))\n",
    "\n",
    "data_train['y'].plot(ax=ax, label='train')\n",
    "data_test['y'].plot(ax=ax, label='test')\n",
    "ax.legend();"
   ]
  },
  {
   "cell_type": "code",
   "execution_count": 32,
   "metadata": {},
   "outputs": [
    {
     "data": {
      "application/vnd.plotly.v1+json": {
       "config": {
        "plotlyServerURL": "https://plot.ly"
       },
       "data": [
        {
         "mode": "lines",
         "name": "Data",
         "type": "scatter",
         "x": [
          "2016-05-02T00:00:00",
          "2016-05-03T00:00:00",
          "2016-05-04T00:00:00",
          "2016-05-05T00:00:00",
          "2016-05-06T00:00:00",
          "2016-05-09T00:00:00",
          "2016-05-10T00:00:00",
          "2016-05-11T00:00:00",
          "2016-05-12T00:00:00",
          "2016-05-13T00:00:00",
          "2016-05-16T00:00:00",
          "2016-05-17T00:00:00",
          "2016-05-18T00:00:00",
          "2016-05-19T00:00:00",
          "2016-05-20T00:00:00",
          "2016-05-23T00:00:00",
          "2016-05-24T00:00:00",
          "2016-05-25T00:00:00",
          "2016-05-26T00:00:00",
          "2016-05-27T00:00:00",
          "2016-05-31T00:00:00",
          "2016-06-01T00:00:00",
          "2016-06-02T00:00:00",
          "2016-06-03T00:00:00",
          "2016-06-06T00:00:00",
          "2016-06-07T00:00:00",
          "2016-06-08T00:00:00",
          "2016-06-09T00:00:00",
          "2016-06-10T00:00:00",
          "2016-06-13T00:00:00",
          "2016-06-14T00:00:00",
          "2016-06-15T00:00:00",
          "2016-06-16T00:00:00",
          "2016-06-17T00:00:00",
          "2016-06-20T00:00:00",
          "2016-06-21T00:00:00",
          "2016-06-22T00:00:00",
          "2016-06-23T00:00:00",
          "2016-06-24T00:00:00",
          "2016-06-27T00:00:00",
          "2016-06-28T00:00:00",
          "2016-06-29T00:00:00",
          "2016-06-30T00:00:00",
          "2016-07-01T00:00:00",
          "2016-07-05T00:00:00",
          "2016-07-06T00:00:00",
          "2016-07-07T00:00:00",
          "2016-07-08T00:00:00",
          "2016-07-11T00:00:00",
          "2016-07-12T00:00:00",
          "2016-07-13T00:00:00",
          "2016-07-14T00:00:00",
          "2016-07-15T00:00:00",
          "2016-07-18T00:00:00",
          "2016-07-19T00:00:00",
          "2016-07-20T00:00:00",
          "2016-07-21T00:00:00",
          "2016-07-22T00:00:00",
          "2016-07-25T00:00:00",
          "2016-07-26T00:00:00",
          "2016-07-27T00:00:00",
          "2016-07-28T00:00:00",
          "2016-07-29T00:00:00",
          "2016-08-01T00:00:00",
          "2016-08-02T00:00:00",
          "2016-08-03T00:00:00",
          "2016-08-04T00:00:00",
          "2016-08-05T00:00:00",
          "2016-08-08T00:00:00",
          "2016-08-09T00:00:00",
          "2016-08-10T00:00:00",
          "2016-08-11T00:00:00",
          "2016-08-12T00:00:00",
          "2016-08-15T00:00:00",
          "2016-08-16T00:00:00",
          "2016-08-17T00:00:00",
          "2016-08-18T00:00:00",
          "2016-08-19T00:00:00",
          "2016-08-22T00:00:00",
          "2016-08-23T00:00:00",
          "2016-08-24T00:00:00",
          "2016-08-25T00:00:00",
          "2016-08-26T00:00:00",
          "2016-08-29T00:00:00",
          "2016-08-30T00:00:00",
          "2016-08-31T00:00:00",
          "2016-09-01T00:00:00",
          "2016-09-02T00:00:00",
          "2016-09-06T00:00:00",
          "2016-09-07T00:00:00",
          "2016-09-08T00:00:00",
          "2016-09-09T00:00:00",
          "2016-09-12T00:00:00",
          "2016-09-13T00:00:00",
          "2016-09-14T00:00:00",
          "2016-09-15T00:00:00",
          "2016-09-16T00:00:00",
          "2016-09-19T00:00:00",
          "2016-09-20T00:00:00",
          "2016-09-21T00:00:00",
          "2016-09-22T00:00:00",
          "2016-09-23T00:00:00",
          "2016-09-26T00:00:00",
          "2016-09-27T00:00:00",
          "2016-09-28T00:00:00",
          "2016-09-29T00:00:00",
          "2016-09-30T00:00:00",
          "2016-10-03T00:00:00",
          "2016-10-04T00:00:00",
          "2016-10-05T00:00:00",
          "2016-10-06T00:00:00",
          "2016-10-07T00:00:00",
          "2016-10-10T00:00:00",
          "2016-10-11T00:00:00",
          "2016-10-12T00:00:00",
          "2016-10-13T00:00:00",
          "2016-10-14T00:00:00",
          "2016-10-17T00:00:00",
          "2016-10-18T00:00:00",
          "2016-10-19T00:00:00",
          "2016-10-20T00:00:00",
          "2016-10-21T00:00:00",
          "2016-10-24T00:00:00",
          "2016-10-25T00:00:00",
          "2016-10-26T00:00:00",
          "2016-10-27T00:00:00",
          "2016-10-28T00:00:00",
          "2016-10-31T00:00:00",
          "2016-11-01T00:00:00",
          "2016-11-02T00:00:00",
          "2016-11-03T00:00:00",
          "2016-11-04T00:00:00",
          "2016-11-07T00:00:00",
          "2016-11-08T00:00:00",
          "2016-11-09T00:00:00",
          "2016-11-10T00:00:00",
          "2016-11-11T00:00:00",
          "2016-11-14T00:00:00",
          "2016-11-15T00:00:00",
          "2016-11-16T00:00:00",
          "2016-11-17T00:00:00",
          "2016-11-18T00:00:00",
          "2016-11-21T00:00:00",
          "2016-11-22T00:00:00",
          "2016-11-23T00:00:00",
          "2016-11-25T00:00:00",
          "2016-11-28T00:00:00",
          "2016-11-29T00:00:00",
          "2016-11-30T00:00:00",
          "2016-12-01T00:00:00",
          "2016-12-02T00:00:00",
          "2016-12-05T00:00:00",
          "2016-12-06T00:00:00",
          "2016-12-07T00:00:00",
          "2016-12-08T00:00:00",
          "2016-12-09T00:00:00",
          "2016-12-12T00:00:00",
          "2016-12-13T00:00:00",
          "2016-12-14T00:00:00",
          "2016-12-15T00:00:00",
          "2016-12-16T00:00:00",
          "2016-12-19T00:00:00",
          "2016-12-20T00:00:00",
          "2016-12-21T00:00:00",
          "2016-12-22T00:00:00",
          "2016-12-23T00:00:00",
          "2016-12-27T00:00:00",
          "2016-12-28T00:00:00",
          "2016-12-29T00:00:00",
          "2016-12-30T00:00:00",
          "2017-01-03T00:00:00",
          "2017-01-04T00:00:00",
          "2017-01-05T00:00:00",
          "2017-01-06T00:00:00",
          "2017-01-09T00:00:00",
          "2017-01-10T00:00:00",
          "2017-01-11T00:00:00",
          "2017-01-12T00:00:00",
          "2017-01-13T00:00:00",
          "2017-01-17T00:00:00",
          "2017-01-18T00:00:00",
          "2017-01-19T00:00:00",
          "2017-01-20T00:00:00",
          "2017-01-23T00:00:00",
          "2017-01-24T00:00:00",
          "2017-01-25T00:00:00",
          "2017-01-26T00:00:00",
          "2017-01-27T00:00:00",
          "2017-01-30T00:00:00",
          "2017-01-31T00:00:00",
          "2017-02-01T00:00:00",
          "2017-02-02T00:00:00",
          "2017-02-03T00:00:00",
          "2017-02-06T00:00:00",
          "2017-02-07T00:00:00",
          "2017-02-08T00:00:00",
          "2017-02-09T00:00:00",
          "2017-02-10T00:00:00",
          "2017-02-13T00:00:00",
          "2017-02-14T00:00:00",
          "2017-02-15T00:00:00",
          "2017-02-16T00:00:00",
          "2017-02-17T00:00:00",
          "2017-02-21T00:00:00",
          "2017-02-22T00:00:00",
          "2017-02-23T00:00:00",
          "2017-02-24T00:00:00",
          "2017-02-27T00:00:00",
          "2017-02-28T00:00:00",
          "2017-03-01T00:00:00",
          "2017-03-02T00:00:00",
          "2017-03-03T00:00:00",
          "2017-03-06T00:00:00",
          "2017-03-07T00:00:00",
          "2017-03-08T00:00:00",
          "2017-03-09T00:00:00",
          "2017-03-10T00:00:00",
          "2017-03-13T00:00:00",
          "2017-03-14T00:00:00",
          "2017-03-15T00:00:00",
          "2017-03-16T00:00:00",
          "2017-03-17T00:00:00",
          "2017-03-20T00:00:00",
          "2017-03-21T00:00:00",
          "2017-03-22T00:00:00",
          "2017-03-23T00:00:00",
          "2017-03-24T00:00:00",
          "2017-03-27T00:00:00",
          "2017-03-28T00:00:00",
          "2017-03-29T00:00:00",
          "2017-03-30T00:00:00",
          "2017-03-31T00:00:00",
          "2017-04-03T00:00:00",
          "2017-04-04T00:00:00",
          "2017-04-05T00:00:00",
          "2017-04-06T00:00:00",
          "2017-04-07T00:00:00",
          "2017-04-10T00:00:00",
          "2017-04-11T00:00:00",
          "2017-04-12T00:00:00",
          "2017-04-13T00:00:00",
          "2017-04-17T00:00:00",
          "2017-04-18T00:00:00",
          "2017-04-19T00:00:00",
          "2017-04-20T00:00:00",
          "2017-04-21T00:00:00",
          "2017-04-24T00:00:00",
          "2017-04-25T00:00:00",
          "2017-04-26T00:00:00",
          "2017-04-27T00:00:00",
          "2017-04-28T00:00:00",
          "2017-05-01T00:00:00",
          "2017-05-02T00:00:00",
          "2017-05-03T00:00:00",
          "2017-05-04T00:00:00",
          "2017-05-05T00:00:00",
          "2017-05-08T00:00:00",
          "2017-05-09T00:00:00",
          "2017-05-10T00:00:00",
          "2017-05-11T00:00:00",
          "2017-05-12T00:00:00",
          "2017-05-15T00:00:00",
          "2017-05-16T00:00:00",
          "2017-05-17T00:00:00",
          "2017-05-18T00:00:00",
          "2017-05-19T00:00:00",
          "2017-05-22T00:00:00",
          "2017-05-23T00:00:00",
          "2017-05-24T00:00:00",
          "2017-05-25T00:00:00",
          "2017-05-26T00:00:00",
          "2017-05-30T00:00:00",
          "2017-05-31T00:00:00",
          "2017-06-01T00:00:00",
          "2017-06-02T00:00:00",
          "2017-06-05T00:00:00",
          "2017-06-06T00:00:00",
          "2017-06-07T00:00:00",
          "2017-06-08T00:00:00",
          "2017-06-09T00:00:00",
          "2017-06-12T00:00:00",
          "2017-06-13T00:00:00",
          "2017-06-14T00:00:00",
          "2017-06-15T00:00:00",
          "2017-06-16T00:00:00",
          "2017-06-19T00:00:00",
          "2017-06-20T00:00:00",
          "2017-06-21T00:00:00",
          "2017-06-22T00:00:00",
          "2017-06-23T00:00:00",
          "2017-06-26T00:00:00",
          "2017-06-27T00:00:00",
          "2017-06-28T00:00:00",
          "2017-06-29T00:00:00",
          "2017-06-30T00:00:00",
          "2017-07-03T00:00:00",
          "2017-07-05T00:00:00",
          "2017-07-06T00:00:00",
          "2017-07-07T00:00:00",
          "2017-07-10T00:00:00",
          "2017-07-11T00:00:00",
          "2017-07-12T00:00:00",
          "2017-07-13T00:00:00",
          "2017-07-14T00:00:00",
          "2017-07-17T00:00:00",
          "2017-07-18T00:00:00",
          "2017-07-19T00:00:00",
          "2017-07-20T00:00:00",
          "2017-07-21T00:00:00",
          "2017-07-24T00:00:00",
          "2017-07-25T00:00:00",
          "2017-07-26T00:00:00",
          "2017-07-27T00:00:00",
          "2017-07-28T00:00:00",
          "2017-07-31T00:00:00",
          "2017-08-01T00:00:00",
          "2017-08-02T00:00:00",
          "2017-08-03T00:00:00",
          "2017-08-04T00:00:00",
          "2017-08-07T00:00:00",
          "2017-08-08T00:00:00",
          "2017-08-09T00:00:00",
          "2017-08-10T00:00:00",
          "2017-08-11T00:00:00",
          "2017-08-14T00:00:00",
          "2017-08-15T00:00:00",
          "2017-08-16T00:00:00",
          "2017-08-17T00:00:00",
          "2017-08-18T00:00:00",
          "2017-08-21T00:00:00",
          "2017-08-22T00:00:00",
          "2017-08-23T00:00:00",
          "2017-08-24T00:00:00",
          "2017-08-25T00:00:00",
          "2017-08-28T00:00:00",
          "2017-08-29T00:00:00",
          "2017-08-30T00:00:00",
          "2017-08-31T00:00:00",
          "2017-09-01T00:00:00",
          "2017-09-05T00:00:00",
          "2017-09-06T00:00:00",
          "2017-09-07T00:00:00",
          "2017-09-08T00:00:00",
          "2017-09-11T00:00:00",
          "2017-09-12T00:00:00",
          "2017-09-13T00:00:00",
          "2017-09-14T00:00:00",
          "2017-09-15T00:00:00",
          "2017-09-18T00:00:00",
          "2017-09-19T00:00:00",
          "2017-09-20T00:00:00",
          "2017-09-21T00:00:00",
          "2017-09-22T00:00:00",
          "2017-09-25T00:00:00",
          "2017-09-26T00:00:00",
          "2017-09-27T00:00:00",
          "2017-09-28T00:00:00",
          "2017-09-29T00:00:00",
          "2017-10-02T00:00:00",
          "2017-10-03T00:00:00",
          "2017-10-04T00:00:00",
          "2017-10-05T00:00:00",
          "2017-10-06T00:00:00",
          "2017-10-09T00:00:00",
          "2017-10-10T00:00:00",
          "2017-10-11T00:00:00",
          "2017-10-12T00:00:00",
          "2017-10-13T00:00:00",
          "2017-10-16T00:00:00",
          "2017-10-17T00:00:00",
          "2017-10-18T00:00:00",
          "2017-10-19T00:00:00",
          "2017-10-20T00:00:00",
          "2017-10-23T00:00:00",
          "2017-10-24T00:00:00",
          "2017-10-25T00:00:00",
          "2017-10-26T00:00:00",
          "2017-10-27T00:00:00",
          "2017-10-30T00:00:00",
          "2017-10-31T00:00:00",
          "2017-11-01T00:00:00",
          "2017-11-02T00:00:00",
          "2017-11-03T00:00:00",
          "2017-11-06T00:00:00",
          "2017-11-07T00:00:00",
          "2017-11-08T00:00:00",
          "2017-11-09T00:00:00",
          "2017-11-10T00:00:00",
          "2017-11-13T00:00:00",
          "2017-11-14T00:00:00",
          "2017-11-15T00:00:00",
          "2017-11-16T00:00:00",
          "2017-11-17T00:00:00",
          "2017-11-20T00:00:00",
          "2017-11-21T00:00:00",
          "2017-11-22T00:00:00",
          "2017-11-24T00:00:00",
          "2017-11-27T00:00:00",
          "2017-11-28T00:00:00",
          "2017-11-29T00:00:00",
          "2017-11-30T00:00:00",
          "2017-12-01T00:00:00",
          "2017-12-04T00:00:00",
          "2017-12-05T00:00:00",
          "2017-12-06T00:00:00",
          "2017-12-07T00:00:00",
          "2017-12-08T00:00:00",
          "2017-12-11T00:00:00",
          "2017-12-12T00:00:00",
          "2017-12-13T00:00:00",
          "2017-12-14T00:00:00",
          "2017-12-15T00:00:00",
          "2017-12-18T00:00:00",
          "2017-12-19T00:00:00",
          "2017-12-20T00:00:00",
          "2017-12-21T00:00:00"
         ],
         "y": [
          118.56999969482422,
          117.43000030517578,
          118.05999755859375,
          117.80999755859375,
          119.48999786376953,
          119.23999786376953,
          120.5,
          119.5199966430664,
          120.27999877929688,
          119.80999755859375,
          118.66999816894531,
          117.3499984741211,
          117.6500015258789,
          116.80999755859375,
          117.3499984741211,
          115.97000122070312,
          117.69999694824219,
          117.88999938964844,
          119.47000122070312,
          119.37999725341797,
          118.80999755859375,
          118.80999755859375,
          118.77999877929688,
          118.93000030517578,
          118.47000122070312,
          118.79000091552734,
          117.76000213623047,
          118.38999938964844,
          118.55999755859375,
          116.62000274658203,
          113.94999694824219,
          114.94000244140625,
          114.5999984741211,
          114.38999938964844,
          113.0199966430664,
          113.37000274658203,
          114.37999725341797,
          113.91000366210938,
          115.08000183105469,
          112.08000183105469,
          108.97000122070312,
          112.69999694824219,
          114.16000366210938,
          114.27999877929688,
          114.19000244140625,
          114.19999694824219,
          114.19999694824219,
          116.69999694824219,
          115.8499984741211,
          117.23999786376953,
          117.87000274658203,
          117.93000030517578,
          116.77999877929688,
          117.29000091552734,
          116.86000061035156,
          119.37000274658203,
          120.61000061035156,
          121.91999816894531,
          120.61000061035156,
          121,
          121.62999725341797,
          121.22000122070312,
          123.33999633789062,
          125,
          123.94000244140625,
          124.30999755859375,
          123.08999633789062,
          122.51000213623047,
          124.36000061035156,
          125.1500015258789,
          125.26000213623047,
          125.05999755859375,
          124.87999725341797,
          124.9000015258789,
          124.87999725341797,
          123.9000015258789,
          123.30000305175781,
          124.37000274658203,
          123.91000366210938,
          123.55999755859375,
          124.1500015258789,
          124.37000274658203,
          123.4800033569336,
          123.88999938964844,
          124.95999908447266,
          126.54000091552734,
          125.83999633789062,
          126.12000274658203,
          126.16999816894531,
          126.51000213623047,
          129.72999572753906,
          129.72999572753906,
          131.0500030517578,
          130.27000427246094,
          127.0999984741211,
          128.69000244140625,
          127.20999908447266,
          127.7699966430664,
          128.35000610351562,
          129.07000732421875,
          128.64999389648438,
          128.63999938964844,
          129.94000244140625,
          130.0800018310547,
          127.95999908447266,
          127.30999755859375,
          128.69000244140625,
          129.22999572753906,
          128.08999633789062,
          128.27000427246094,
          128.77000427246094,
          128.19000244140625,
          128.47000122070312,
          128.74000549316406,
          128.99000549316406,
          130.24000549316406,
          128.8800048828125,
          129.0500030517578,
          127.81999969482422,
          127.87999725341797,
          127.54000091552734,
          128.57000732421875,
          130.11000061035156,
          130,
          132.07000732421875,
          133.27999877929688,
          132.2899932861328,
          131.0399932861328,
          129.69000244140625,
          131.2899932861328,
          130.99000549316406,
          129.5,
          127.16999816894531,
          120,
          120.75,
          122.1500015258789,
          124.22000122070312,
          123.18000030517578,
          120.80000305175781,
          119.0199966430664,
          115.08000183105469,
          117.19999694824219,
          116.33999633789062,
          117.79000091552734,
          117.0199966430664,
          121.7699966430664,
          121.47000122070312,
          120.83999633789062,
          120.37999725341797,
          120.37999725341797,
          120.41000366210938,
          120.87000274658203,
          118.41999816894531,
          115.0999984741211,
          115.4000015258789,
          117.43000030517578,
          117.30999755859375,
          117.94999694824219,
          118.91000366210938,
          119.68000030517578,
          117.7699966430664,
          120.30999755859375,
          120.20999908447266,
          120.56999969482422,
          119.87000274658203,
          119.23999786376953,
          119.08999633789062,
          119.04000091552734,
          117.4000015258789,
          117.2699966430664,
          118.01000213623047,
          118.01000213623047,
          116.91999816894531,
          116.3499984741211,
          115.05000305175781,
          116.86000061035156,
          116.86000061035156,
          118.69000244140625,
          120.66999816894531,
          123.41000366210938,
          124.9000015258789,
          124.3499984741211,
          126.08999633789062,
          126.62000274658203,
          128.33999633789062,
          127.87000274658203,
          127.87000274658203,
          127.91999816894531,
          127.55000305175781,
          127.04000091552734,
          128.92999267578125,
          129.3699951171875,
          131.47999572753906,
          132.77999877929688,
          132.17999267578125,
          130.97999572753906,
          130.32000732421875,
          133.22999572753906,
          130.83999633789062,
          130.97999572753906,
          132.05999755859375,
          131.83999633789062,
          134.1999969482422,
          134.13999938964844,
          134.19000244140625,
          134.0500030517578,
          133.85000610351562,
          133.44000244140625,
          133.83999633789062,
          133.52999877929688,
          133.72000122070312,
          133.72000122070312,
          136.1199951171875,
          135.36000061035156,
          135.44000244140625,
          136.41000366210938,
          135.5399932861328,
          137.4199981689453,
          136.75999450683594,
          137.1699981689453,
          137.4199981689453,
          137.3000030517578,
          137.72000122070312,
          138.24000549316406,
          138.7899932861328,
          139.60000610351562,
          139.32000732421875,
          139.72000122070312,
          139.99000549316406,
          139.83999633789062,
          139.94000244140625,
          138.50999450683594,
          139.58999633789062,
          139.52999877929688,
          140.33999633789062,
          140.32000732421875,
          141.75999450683594,
          142.64999389648438,
          142.41000366210938,
          142.0500030517578,
          142.27999877929688,
          141.72999572753906,
          141.85000610351562,
          141.1699981689453,
          140.77999877929688,
          141.0399932861328,
          139.9199981689453,
          139.5800018310547,
          139.38999938964844,
          141.4199981689453,
          141.4199981689453,
          140.9600067138672,
          142.27000427246094,
          143.8000030517578,
          143.67999267578125,
          145.47000122070312,
          146.49000549316406,
          146.55999755859375,
          147.6999969482422,
          150.25,
          152.4600067138672,
          152.77999877929688,
          151.8000030517578,
          150.85000610351562,
          150.24000549316406,
          151.05999755859375,
          150.47999572753906,
          150.2899932861328,
          150.0399932861328,
          150.3300018310547,
          150.19000244140625,
          149.77999877929688,
          144.85000610351562,
          147.66000366210938,
          148.05999755859375,
          148.24000549316406,
          148.07000732421875,
          150.0399932861328,
          151.9600067138672,
          152.1300048828125,
          152.3800048828125,
          152.3800048828125,
          151.4600067138672,
          151.52999877929688,
          153.61000061035156,
          153.6300048828125,
          152.80999755859375,
          153.1199951171875,
          154.7100067138672,
          149.60000610351562,
          148.44000244140625,
          150.67999267578125,
          150.25,
          149.8000030517578,
          150.63999938964844,
          152.8699951171875,
          152.25,
          153.91000366210938,
          153.39999389648438,
          155.07000732421875,
          153.58999633789062,
          150.5800018310547,
          153.24000549316406,
          151.0399932861328,
          150.97999572753906,
          148.42999267578125,
          150.33999633789062,
          150.33999633789062,
          148.82000732421875,
          151.44000244140625,
          153.5,
          155.27000427246094,
          158.89999389648438,
          159.25999450683594,
          159.97000122070312,
          159.72999572753906,
          162.86000061035156,
          164.13999938964844,
          164.52999877929688,
          164.42999267578125,
          166,
          165.27999877929688,
          165.61000061035156,
          170.44000244140625,
          172.4499969482422,
          169.25,
          169.86000061035156,
          169.3000030517578,
          168.58999633789062,
          169.6199951171875,
          171.97999572753906,
          171.22999572753906,
          171.17999267578125,
          167.39999389648438,
          168.0800018310547,
          170.75,
          171,
          170,
          166.91000366210938,
          167.41000366210938,
          167.77999877929688,
          169.63999938964844,
          168.7100067138672,
          167.74000549316406,
          166.32000732421875,
          167.24000549316406,
          168.0500030517578,
          169.9199981689453,
          171.97000122070312,
          172.02000427246094,
          170.72000122070312,
          170.72000122070312,
          172.08999633789062,
          173.2100067138672,
          170.9499969482422,
          173.50999450683594,
          172.9600067138672,
          173.0500030517578,
          170.9600067138672,
          171.63999938964844,
          170.00999450683594,
          172.52000427246094,
          172.1699981689453,
          171.11000061035156,
          170.5399932861328,
          162.8699951171875,
          164.2100067138672,
          167.67999267578125,
          168.72999572753906,
          170.8699951171875,
          169.47000122070312,
          169.9600067138672,
          168.4199981689453,
          171.24000549316406,
          172.22999572753906,
          172.5,
          171.58999633789062,
          172.74000549316406,
          172.5500030517578,
          173.74000549316406,
          174.52000427246094,
          176.11000061035156,
          176.02999877929688,
          174.55999755859375,
          174.97999572753906,
          171.27000427246094,
          171.8000030517578,
          170.60000610351562,
          170.6300048828125,
          177.8800048828125,
          179.8699951171875,
          180.05999755859375,
          182.66000366210938,
          178.9199981689453,
          178.9199981689453,
          180.1699981689453,
          180.25,
          179.55999755859375,
          179.3000030517578,
          178.4600067138672,
          178.77000427246094,
          178.07000732421875,
          177.9499969482422,
          179.58999633789062,
          179,
          178.74000549316406,
          181.86000061035156,
          180.8699951171875,
          182.77999877929688,
          182.77999877929688,
          183.02999877929688,
          182.4199981689453,
          175.1300048828125,
          177.17999267578125,
          175.10000610351562,
          171.47000122070312,
          172.8300018310547,
          176.05999755859375,
          180.13999938964844,
          179,
          179.0399932861328,
          176.9600067138672,
          178.3000030517578,
          178.38999938964844,
          180.17999267578125,
          180.82000732421875,
          179.50999450683594,
          177.88999938964844,
          177.4499969482422,
          177.1999969482422,
          175.99000549316406,
          175.99000549316406
         ]
        },
        {
         "mode": "lines",
         "name": "test",
         "type": "scatter",
         "x": [
          "2017-12-22T00:00:00",
          "2017-12-26T00:00:00",
          "2017-12-27T00:00:00",
          "2017-12-28T00:00:00",
          "2017-12-29T00:00:00",
          "2018-01-02T00:00:00",
          "2018-01-03T00:00:00",
          "2018-01-04T00:00:00",
          "2018-01-05T00:00:00",
          "2018-01-08T00:00:00",
          "2018-01-09T00:00:00",
          "2018-01-10T00:00:00",
          "2018-01-11T00:00:00",
          "2018-01-12T00:00:00",
          "2018-01-16T00:00:00",
          "2018-01-17T00:00:00",
          "2018-01-18T00:00:00",
          "2018-01-19T00:00:00",
          "2018-01-22T00:00:00",
          "2018-01-23T00:00:00",
          "2018-01-24T00:00:00",
          "2018-01-25T00:00:00",
          "2018-01-26T00:00:00"
         ],
         "y": [
          177.6199951171875,
          177.9199981689453,
          176.4600067138672,
          181.4199981689453,
          181.4199981689453,
          184.6699981689453,
          184.3300018310547,
          186.85000610351562,
          188.27999877929688,
          187.8699951171875,
          187.83999633789062,
          187.77000427246094,
          179.3699951171875,
          178.38999938964844,
          178.38999938964844,
          177.60000610351562,
          179.8000030517578,
          181.2899932861328,
          185.3699951171875,
          189.35000610351562,
          186.5500030517578,
          187.47999572753906,
          190
         ]
        }
       ],
       "layout": {
        "template": {
         "data": {
          "bar": [
           {
            "error_x": {
             "color": "#2a3f5f"
            },
            "error_y": {
             "color": "#2a3f5f"
            },
            "marker": {
             "line": {
              "color": "#E5ECF6",
              "width": 0.5
             },
             "pattern": {
              "fillmode": "overlay",
              "size": 10,
              "solidity": 0.2
             }
            },
            "type": "bar"
           }
          ],
          "barpolar": [
           {
            "marker": {
             "line": {
              "color": "#E5ECF6",
              "width": 0.5
             },
             "pattern": {
              "fillmode": "overlay",
              "size": 10,
              "solidity": 0.2
             }
            },
            "type": "barpolar"
           }
          ],
          "carpet": [
           {
            "aaxis": {
             "endlinecolor": "#2a3f5f",
             "gridcolor": "white",
             "linecolor": "white",
             "minorgridcolor": "white",
             "startlinecolor": "#2a3f5f"
            },
            "baxis": {
             "endlinecolor": "#2a3f5f",
             "gridcolor": "white",
             "linecolor": "white",
             "minorgridcolor": "white",
             "startlinecolor": "#2a3f5f"
            },
            "type": "carpet"
           }
          ],
          "choropleth": [
           {
            "colorbar": {
             "outlinewidth": 0,
             "ticks": ""
            },
            "type": "choropleth"
           }
          ],
          "contour": [
           {
            "colorbar": {
             "outlinewidth": 0,
             "ticks": ""
            },
            "colorscale": [
             [
              0,
              "#0d0887"
             ],
             [
              0.1111111111111111,
              "#46039f"
             ],
             [
              0.2222222222222222,
              "#7201a8"
             ],
             [
              0.3333333333333333,
              "#9c179e"
             ],
             [
              0.4444444444444444,
              "#bd3786"
             ],
             [
              0.5555555555555556,
              "#d8576b"
             ],
             [
              0.6666666666666666,
              "#ed7953"
             ],
             [
              0.7777777777777778,
              "#fb9f3a"
             ],
             [
              0.8888888888888888,
              "#fdca26"
             ],
             [
              1,
              "#f0f921"
             ]
            ],
            "type": "contour"
           }
          ],
          "contourcarpet": [
           {
            "colorbar": {
             "outlinewidth": 0,
             "ticks": ""
            },
            "type": "contourcarpet"
           }
          ],
          "heatmap": [
           {
            "colorbar": {
             "outlinewidth": 0,
             "ticks": ""
            },
            "colorscale": [
             [
              0,
              "#0d0887"
             ],
             [
              0.1111111111111111,
              "#46039f"
             ],
             [
              0.2222222222222222,
              "#7201a8"
             ],
             [
              0.3333333333333333,
              "#9c179e"
             ],
             [
              0.4444444444444444,
              "#bd3786"
             ],
             [
              0.5555555555555556,
              "#d8576b"
             ],
             [
              0.6666666666666666,
              "#ed7953"
             ],
             [
              0.7777777777777778,
              "#fb9f3a"
             ],
             [
              0.8888888888888888,
              "#fdca26"
             ],
             [
              1,
              "#f0f921"
             ]
            ],
            "type": "heatmap"
           }
          ],
          "heatmapgl": [
           {
            "colorbar": {
             "outlinewidth": 0,
             "ticks": ""
            },
            "colorscale": [
             [
              0,
              "#0d0887"
             ],
             [
              0.1111111111111111,
              "#46039f"
             ],
             [
              0.2222222222222222,
              "#7201a8"
             ],
             [
              0.3333333333333333,
              "#9c179e"
             ],
             [
              0.4444444444444444,
              "#bd3786"
             ],
             [
              0.5555555555555556,
              "#d8576b"
             ],
             [
              0.6666666666666666,
              "#ed7953"
             ],
             [
              0.7777777777777778,
              "#fb9f3a"
             ],
             [
              0.8888888888888888,
              "#fdca26"
             ],
             [
              1,
              "#f0f921"
             ]
            ],
            "type": "heatmapgl"
           }
          ],
          "histogram": [
           {
            "marker": {
             "pattern": {
              "fillmode": "overlay",
              "size": 10,
              "solidity": 0.2
             }
            },
            "type": "histogram"
           }
          ],
          "histogram2d": [
           {
            "colorbar": {
             "outlinewidth": 0,
             "ticks": ""
            },
            "colorscale": [
             [
              0,
              "#0d0887"
             ],
             [
              0.1111111111111111,
              "#46039f"
             ],
             [
              0.2222222222222222,
              "#7201a8"
             ],
             [
              0.3333333333333333,
              "#9c179e"
             ],
             [
              0.4444444444444444,
              "#bd3786"
             ],
             [
              0.5555555555555556,
              "#d8576b"
             ],
             [
              0.6666666666666666,
              "#ed7953"
             ],
             [
              0.7777777777777778,
              "#fb9f3a"
             ],
             [
              0.8888888888888888,
              "#fdca26"
             ],
             [
              1,
              "#f0f921"
             ]
            ],
            "type": "histogram2d"
           }
          ],
          "histogram2dcontour": [
           {
            "colorbar": {
             "outlinewidth": 0,
             "ticks": ""
            },
            "colorscale": [
             [
              0,
              "#0d0887"
             ],
             [
              0.1111111111111111,
              "#46039f"
             ],
             [
              0.2222222222222222,
              "#7201a8"
             ],
             [
              0.3333333333333333,
              "#9c179e"
             ],
             [
              0.4444444444444444,
              "#bd3786"
             ],
             [
              0.5555555555555556,
              "#d8576b"
             ],
             [
              0.6666666666666666,
              "#ed7953"
             ],
             [
              0.7777777777777778,
              "#fb9f3a"
             ],
             [
              0.8888888888888888,
              "#fdca26"
             ],
             [
              1,
              "#f0f921"
             ]
            ],
            "type": "histogram2dcontour"
           }
          ],
          "mesh3d": [
           {
            "colorbar": {
             "outlinewidth": 0,
             "ticks": ""
            },
            "type": "mesh3d"
           }
          ],
          "parcoords": [
           {
            "line": {
             "colorbar": {
              "outlinewidth": 0,
              "ticks": ""
             }
            },
            "type": "parcoords"
           }
          ],
          "pie": [
           {
            "automargin": true,
            "type": "pie"
           }
          ],
          "scatter": [
           {
            "fillpattern": {
             "fillmode": "overlay",
             "size": 10,
             "solidity": 0.2
            },
            "type": "scatter"
           }
          ],
          "scatter3d": [
           {
            "line": {
             "colorbar": {
              "outlinewidth": 0,
              "ticks": ""
             }
            },
            "marker": {
             "colorbar": {
              "outlinewidth": 0,
              "ticks": ""
             }
            },
            "type": "scatter3d"
           }
          ],
          "scattercarpet": [
           {
            "marker": {
             "colorbar": {
              "outlinewidth": 0,
              "ticks": ""
             }
            },
            "type": "scattercarpet"
           }
          ],
          "scattergeo": [
           {
            "marker": {
             "colorbar": {
              "outlinewidth": 0,
              "ticks": ""
             }
            },
            "type": "scattergeo"
           }
          ],
          "scattergl": [
           {
            "marker": {
             "colorbar": {
              "outlinewidth": 0,
              "ticks": ""
             }
            },
            "type": "scattergl"
           }
          ],
          "scattermapbox": [
           {
            "marker": {
             "colorbar": {
              "outlinewidth": 0,
              "ticks": ""
             }
            },
            "type": "scattermapbox"
           }
          ],
          "scatterpolar": [
           {
            "marker": {
             "colorbar": {
              "outlinewidth": 0,
              "ticks": ""
             }
            },
            "type": "scatterpolar"
           }
          ],
          "scatterpolargl": [
           {
            "marker": {
             "colorbar": {
              "outlinewidth": 0,
              "ticks": ""
             }
            },
            "type": "scatterpolargl"
           }
          ],
          "scatterternary": [
           {
            "marker": {
             "colorbar": {
              "outlinewidth": 0,
              "ticks": ""
             }
            },
            "type": "scatterternary"
           }
          ],
          "surface": [
           {
            "colorbar": {
             "outlinewidth": 0,
             "ticks": ""
            },
            "colorscale": [
             [
              0,
              "#0d0887"
             ],
             [
              0.1111111111111111,
              "#46039f"
             ],
             [
              0.2222222222222222,
              "#7201a8"
             ],
             [
              0.3333333333333333,
              "#9c179e"
             ],
             [
              0.4444444444444444,
              "#bd3786"
             ],
             [
              0.5555555555555556,
              "#d8576b"
             ],
             [
              0.6666666666666666,
              "#ed7953"
             ],
             [
              0.7777777777777778,
              "#fb9f3a"
             ],
             [
              0.8888888888888888,
              "#fdca26"
             ],
             [
              1,
              "#f0f921"
             ]
            ],
            "type": "surface"
           }
          ],
          "table": [
           {
            "cells": {
             "fill": {
              "color": "#EBF0F8"
             },
             "line": {
              "color": "white"
             }
            },
            "header": {
             "fill": {
              "color": "#C8D4E3"
             },
             "line": {
              "color": "white"
             }
            },
            "type": "table"
           }
          ]
         },
         "layout": {
          "annotationdefaults": {
           "arrowcolor": "#2a3f5f",
           "arrowhead": 0,
           "arrowwidth": 1
          },
          "autotypenumbers": "strict",
          "coloraxis": {
           "colorbar": {
            "outlinewidth": 0,
            "ticks": ""
           }
          },
          "colorscale": {
           "diverging": [
            [
             0,
             "#8e0152"
            ],
            [
             0.1,
             "#c51b7d"
            ],
            [
             0.2,
             "#de77ae"
            ],
            [
             0.3,
             "#f1b6da"
            ],
            [
             0.4,
             "#fde0ef"
            ],
            [
             0.5,
             "#f7f7f7"
            ],
            [
             0.6,
             "#e6f5d0"
            ],
            [
             0.7,
             "#b8e186"
            ],
            [
             0.8,
             "#7fbc41"
            ],
            [
             0.9,
             "#4d9221"
            ],
            [
             1,
             "#276419"
            ]
           ],
           "sequential": [
            [
             0,
             "#0d0887"
            ],
            [
             0.1111111111111111,
             "#46039f"
            ],
            [
             0.2222222222222222,
             "#7201a8"
            ],
            [
             0.3333333333333333,
             "#9c179e"
            ],
            [
             0.4444444444444444,
             "#bd3786"
            ],
            [
             0.5555555555555556,
             "#d8576b"
            ],
            [
             0.6666666666666666,
             "#ed7953"
            ],
            [
             0.7777777777777778,
             "#fb9f3a"
            ],
            [
             0.8888888888888888,
             "#fdca26"
            ],
            [
             1,
             "#f0f921"
            ]
           ],
           "sequentialminus": [
            [
             0,
             "#0d0887"
            ],
            [
             0.1111111111111111,
             "#46039f"
            ],
            [
             0.2222222222222222,
             "#7201a8"
            ],
            [
             0.3333333333333333,
             "#9c179e"
            ],
            [
             0.4444444444444444,
             "#bd3786"
            ],
            [
             0.5555555555555556,
             "#d8576b"
            ],
            [
             0.6666666666666666,
             "#ed7953"
            ],
            [
             0.7777777777777778,
             "#fb9f3a"
            ],
            [
             0.8888888888888888,
             "#fdca26"
            ],
            [
             1,
             "#f0f921"
            ]
           ]
          },
          "colorway": [
           "#636efa",
           "#EF553B",
           "#00cc96",
           "#ab63fa",
           "#FFA15A",
           "#19d3f3",
           "#FF6692",
           "#B6E880",
           "#FF97FF",
           "#FECB52"
          ],
          "font": {
           "color": "#2a3f5f"
          },
          "geo": {
           "bgcolor": "white",
           "lakecolor": "white",
           "landcolor": "#E5ECF6",
           "showlakes": true,
           "showland": true,
           "subunitcolor": "white"
          },
          "hoverlabel": {
           "align": "left"
          },
          "hovermode": "closest",
          "mapbox": {
           "style": "light"
          },
          "paper_bgcolor": "white",
          "plot_bgcolor": "#E5ECF6",
          "polar": {
           "angularaxis": {
            "gridcolor": "white",
            "linecolor": "white",
            "ticks": ""
           },
           "bgcolor": "#E5ECF6",
           "radialaxis": {
            "gridcolor": "white",
            "linecolor": "white",
            "ticks": ""
           }
          },
          "scene": {
           "xaxis": {
            "backgroundcolor": "#E5ECF6",
            "gridcolor": "white",
            "gridwidth": 2,
            "linecolor": "white",
            "showbackground": true,
            "ticks": "",
            "zerolinecolor": "white"
           },
           "yaxis": {
            "backgroundcolor": "#E5ECF6",
            "gridcolor": "white",
            "gridwidth": 2,
            "linecolor": "white",
            "showbackground": true,
            "ticks": "",
            "zerolinecolor": "white"
           },
           "zaxis": {
            "backgroundcolor": "#E5ECF6",
            "gridcolor": "white",
            "gridwidth": 2,
            "linecolor": "white",
            "showbackground": true,
            "ticks": "",
            "zerolinecolor": "white"
           }
          },
          "shapedefaults": {
           "line": {
            "color": "#2a3f5f"
           }
          },
          "ternary": {
           "aaxis": {
            "gridcolor": "white",
            "linecolor": "white",
            "ticks": ""
           },
           "baxis": {
            "gridcolor": "white",
            "linecolor": "white",
            "ticks": ""
           },
           "bgcolor": "#E5ECF6",
           "caxis": {
            "gridcolor": "white",
            "linecolor": "white",
            "ticks": ""
           }
          },
          "title": {
           "x": 0.05
          },
          "xaxis": {
           "automargin": true,
           "gridcolor": "white",
           "linecolor": "white",
           "ticks": "",
           "title": {
            "standoff": 15
           },
           "zerolinecolor": "white",
           "zerolinewidth": 2
          },
          "yaxis": {
           "automargin": true,
           "gridcolor": "white",
           "linecolor": "white",
           "ticks": "",
           "title": {
            "standoff": 15
           },
           "zerolinecolor": "white",
           "zerolinewidth": 2
          }
         }
        },
        "title": {
         "text": "Bond "
        },
        "xaxis": {
         "title": {
          "text": "Date"
         }
        },
        "yaxis": {
         "title": {
          "text": "Close"
         }
        }
       }
      }
     },
     "metadata": {},
     "output_type": "display_data"
    }
   ],
   "source": [
    "#Otra opción, es emplear la librería de go.Scatter para otro tipo de gráfico. \n",
    "trace1 = go.Scatter(\n",
    "    x = date_train,\n",
    "    y = data_train['y'],\n",
    "    mode = 'lines',\n",
    "    name = 'Data'\n",
    ")\n",
    "\n",
    "trace2 = go.Scatter(\n",
    "    x = date_test,\n",
    "    y = data_test['y'],\n",
    "    mode = 'lines',\n",
    "    name = 'test'\n",
    ")\n",
    "\n",
    "layout = go.Layout(\n",
    "    title = \"Bond \",\n",
    "    xaxis = {'title' : \"Date\"},\n",
    "    yaxis = {'title' : \"Close\"}\n",
    ")\n",
    "fig = go.Figure(data=[trace1, trace2], layout=layout)\n",
    "fig.show()"
   ]
  },
  {
   "cell_type": "markdown",
   "metadata": {},
   "source": [
    "<a id=\"7a\"></a> <br>\n",
    "# 6. Regresión con Random Forest\n",
    "En esta sección, comenzaremos la regresión empleando el algoritmo de Random Forest. Para ello, comenzaremos con la creación de la estructura de datos tipo aprendizaje supervisado. Esto se hace mediante la función de ForecasterAutoreg."
   ]
  },
  {
   "cell_type": "code",
   "execution_count": 43,
   "metadata": {},
   "outputs": [],
   "source": [
    "Lag_seleccionado = 15"
   ]
  },
  {
   "cell_type": "code",
   "execution_count": 44,
   "metadata": {},
   "outputs": [
    {
     "data": {
      "text/plain": [
       "================= \n",
       "ForecasterAutoreg \n",
       "================= \n",
       "Regressor: RandomForestRegressor(random_state=123) \n",
       "Lags: [ 1  2  3  4  5  6  7  8  9 10 11 12 13 14 15] \n",
       "Transformer for y: None \n",
       "Transformer for exog: None \n",
       "Window size: 15 \n",
       "Weight function included: False \n",
       "Differentiation order: None \n",
       "Exogenous included: False \n",
       "Type of exogenous variable: None \n",
       "Exogenous variables names: None \n",
       "Training range: [Timestamp('2016-05-02 00:00:00'), Timestamp('2017-12-26 00:00:00')] \n",
       "Training index type: DatetimeIndex \n",
       "Training index frequency: B \n",
       "Regressor parameters: {'bootstrap': True, 'ccp_alpha': 0.0, 'criterion': 'squared_error', 'max_depth': None, 'max_features': 1.0, 'max_leaf_nodes': None, 'max_samples': None, 'min_impurity_decrease': 0.0, 'min_samples_leaf': 1, 'min_samples_split': 2, 'min_weight_fraction_leaf': 0.0, 'n_estimators': 100, 'n_jobs': None, 'oob_score': False, 'random_state': 123, 'verbose': 0, 'warm_start': False} \n",
       "fit_kwargs: {} \n",
       "Creation date: 2024-05-11 11:30:41 \n",
       "Last fit date: 2024-05-11 11:30:41 \n",
       "Skforecast version: 0.12.0 \n",
       "Python version: 3.10.9 \n",
       "Forecaster id: None "
      ]
     },
     "execution_count": 44,
     "metadata": {},
     "output_type": "execute_result"
    }
   ],
   "source": [
    "# Creamos y entrenamos el modelo de Random Forest con la función de estructura de datos generada a través de la función Forecaster, en este caso, creando ventanas de 10 días:\n",
    "# ==============================================================================\n",
    "forecaster = ForecasterAutoreg(\n",
    "                regressor = RandomForestRegressor(random_state=123),\n",
    "                lags = Lag_seleccionado\n",
    "                )\n",
    "\n",
    "forecaster.fit(y=data_train['y'])\n",
    "forecaster"
   ]
  },
  {
   "cell_type": "code",
   "execution_count": 45,
   "metadata": {},
   "outputs": [
    {
     "data": {
      "text/plain": [
       "2017-12-27    176.954602\n",
       "2017-12-28    178.113601\n",
       "2017-12-29    179.110700\n",
       "2018-01-01    179.503900\n",
       "2018-01-02    179.497699\n",
       "Freq: B, Name: pred, dtype: float64"
      ]
     },
     "execution_count": 45,
     "metadata": {},
     "output_type": "execute_result"
    }
   ],
   "source": [
    "steps = 23  ## el mismo que la ventana de test\n",
    "predictions = forecaster.predict(steps=steps)\n",
    "predictions.head(5)"
   ]
  },
  {
   "cell_type": "code",
   "execution_count": 46,
   "metadata": {},
   "outputs": [
    {
     "name": "stdout",
     "output_type": "stream",
     "text": [
      "Mean Absolute Error: 4.595855354640797\n",
      "MAPE: 0.024652328699949922\n",
      "Test error (mse): 33.27862701005425\n",
      "Test error (rmse): 5.768763039859953\n"
     ]
    }
   ],
   "source": [
    "# Determinamos el error de pronóstico:\n",
    "# ==============================================================================\n",
    "from sklearn.metrics import mean_absolute_error\n",
    "\n",
    "\n",
    "error_mse = mean_squared_error(\n",
    "                y_true = data_test['y'],\n",
    "                y_pred = predictions\n",
    "            )\n",
    "\n",
    "def error_mape(y_true,y_pred):\n",
    "    return np.mean(np.abs((y_true - y_pred) / y_true))\n",
    "\n",
    "mae = mean_absolute_error(y_true=data_test['y'], y_pred=predictions)\n",
    "mape = error_mape(y_true=data_test['y'], y_pred=predictions)\n",
    "\n",
    "print(\"Mean Absolute Error:\", mae)\n",
    "print(\"MAPE:\", mape)\n",
    "\n",
    "print(f\"Test error (mse): {error_mse}\")\n",
    "RMSE = sqrt(error_mse)\n",
    "print(f\"Test error (rmse): {RMSE}\")"
   ]
  },
  {
   "cell_type": "markdown",
   "metadata": {},
   "source": [
    "LSTM"
   ]
  }
 ],
 "metadata": {
  "kernelspec": {
   "display_name": "base",
   "language": "python",
   "name": "python3"
  },
  "language_info": {
   "codemirror_mode": {
    "name": "ipython",
    "version": 3
   },
   "file_extension": ".py",
   "mimetype": "text/x-python",
   "name": "python",
   "nbconvert_exporter": "python",
   "pygments_lexer": "ipython3",
   "version": "3.10.9"
  }
 },
 "nbformat": 4,
 "nbformat_minor": 2
}
